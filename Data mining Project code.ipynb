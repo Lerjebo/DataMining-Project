{
 "cells": [
  {
   "cell_type": "code",
   "execution_count": 2,
   "id": "24d8cacb",
   "metadata": {},
   "outputs": [],
   "source": [
    "from pyspark import SparkContext, SparkConf"
   ]
  },
  {
   "cell_type": "code",
   "execution_count": 3,
   "id": "1c1cc882",
   "metadata": {},
   "outputs": [
    {
     "data": {
      "text/html": [
       "\n",
       "        <div>\n",
       "            <p><b>SparkContext</b></p>\n",
       "\n",
       "            <p><a href=\"http://DESKTOP-HIMDFJ1:4040\">Spark UI</a></p>\n",
       "\n",
       "            <dl>\n",
       "              <dt>Version</dt>\n",
       "                <dd><code>v3.0.2</code></dd>\n",
       "              <dt>Master</dt>\n",
       "                <dd><code>local[*]</code></dd>\n",
       "              <dt>AppName</dt>\n",
       "                <dd><code>project</code></dd>\n",
       "            </dl>\n",
       "        </div>\n",
       "        "
      ],
      "text/plain": [
       "<SparkContext master=local[*] appName=project>"
      ]
     },
     "execution_count": 3,
     "metadata": {},
     "output_type": "execute_result"
    }
   ],
   "source": [
    "conf = SparkConf().setAppName('project')\n",
    "sc = SparkContext(conf=conf)\n",
    "sc"
   ]
  },
  {
   "cell_type": "code",
   "execution_count": 4,
   "id": "99cbb9b5",
   "metadata": {},
   "outputs": [
    {
     "data": {
      "text/plain": [
       "'3.0.2'"
      ]
     },
     "execution_count": 4,
     "metadata": {},
     "output_type": "execute_result"
    }
   ],
   "source": [
    "sc.version"
   ]
  },
  {
   "cell_type": "code",
   "execution_count": 5,
   "id": "b1be3aa8",
   "metadata": {},
   "outputs": [],
   "source": [
    "from pyspark.sql import SparkSession\n",
    "\n",
    "spark = SparkSession.builder.appName('project').config('spark.some.config.option', \"some-value\").getOrCreate()"
   ]
  },
  {
   "cell_type": "code",
   "execution_count": 6,
   "id": "6f8fb5fc",
   "metadata": {},
   "outputs": [],
   "source": [
    "df1 = spark.read.csv('human_activity_raw_sensor_data/sensor_sample_float.csv', header=True)\n",
    "df2 = spark.read.csv('human_activity_raw_sensor_data/sensor_sample_int.csv', header=True)\n",
    "df3 = spark.read.csv('human_activity_raw_sensor_data/sensor.csv', header=True)"
   ]
  },
  {
   "cell_type": "code",
   "execution_count": 22,
   "id": "c7f451ee",
   "metadata": {},
   "outputs": [
    {
     "name": "stdout",
     "output_type": "stream",
     "text": [
      "+--------+---------+--------------------+---------+\n",
      "|value_id|sensor_id|           timestamp|    value|\n",
      "+--------+---------+--------------------+---------+\n",
      "|  315318|     6222|2020-02-26 11:22:...|17.780000|\n",
      "|  315319|     6223|2020-02-26 11:22:...|26.510000|\n",
      "|  315320|     6223|2020-02-26 19:36:...|27.270000|\n",
      "|  315321|     6222|2020-02-26 19:36:...|51.520000|\n",
      "|  315322|     6223|2020-02-26 19:36:...|27.260000|\n",
      "|  315323|     6222|2020-02-26 19:36:...|51.480000|\n",
      "|  315324|     6223|2020-02-26 19:36:...|27.260000|\n",
      "|  315325|     6222|2020-02-26 19:36:...|51.440000|\n",
      "|  315326|     6223|2020-02-26 19:36:...|27.270000|\n",
      "|  315327|     6222|2020-02-26 19:36:...|51.410000|\n",
      "|  315328|     6223|2020-02-26 19:36:...|27.260000|\n",
      "|  315329|     6222|2020-02-26 19:36:...|51.350000|\n",
      "|  315330|     6223|2020-02-26 19:36:...|27.270000|\n",
      "|  315331|     6222|2020-02-26 19:36:...|51.300000|\n",
      "|  315332|     6223|2020-02-26 19:36:...|27.260000|\n",
      "|  315333|     6222|2020-02-26 19:36:...|51.260000|\n",
      "|  315334|     6223|2020-02-26 19:36:...|27.260000|\n",
      "|  315335|     6222|2020-02-26 19:36:...|51.210000|\n",
      "|  315336|     6223|2020-02-26 19:36:...|27.270000|\n",
      "|  315337|     6222|2020-02-26 19:36:...|51.160000|\n",
      "+--------+---------+--------------------+---------+\n",
      "only showing top 20 rows\n",
      "\n"
     ]
    }
   ],
   "source": [
    "df1.show()"
   ]
  },
  {
   "cell_type": "code",
   "execution_count": 7,
   "id": "1b90bbff",
   "metadata": {},
   "outputs": [
    {
     "data": {
      "text/plain": [
       "60479848"
      ]
     },
     "execution_count": 7,
     "metadata": {},
     "output_type": "execute_result"
    }
   ],
   "source": [
    "df.count()"
   ]
  },
  {
   "cell_type": "code",
   "execution_count": 14,
   "id": "7ffb6f7c",
   "metadata": {},
   "outputs": [
    {
     "data": {
      "text/plain": [
       "186824862"
      ]
     },
     "execution_count": 14,
     "metadata": {},
     "output_type": "execute_result"
    }
   ],
   "source": [
    "df2.count()"
   ]
  },
  {
   "cell_type": "code",
   "execution_count": 7,
   "id": "f2dcce26",
   "metadata": {},
   "outputs": [],
   "source": [
    "df1_groupedby = df1.groupBy('sensor_id').count()"
   ]
  },
  {
   "cell_type": "code",
   "execution_count": 8,
   "id": "d7cc1cd3",
   "metadata": {},
   "outputs": [
    {
     "name": "stdout",
     "output_type": "stream",
     "text": [
      "+---------+-------+\n",
      "|sensor_id|  count|\n",
      "+---------+-------+\n",
      "|     6632|8155416|\n",
      "|     6896|5788133|\n",
      "|     7139|6652993|\n",
      "|     6635|8298548|\n",
      "|     6223|4155793|\n",
      "|     6222|3013034|\n",
      "|     6633|8388726|\n",
      "|     6634|8116151|\n",
      "|     6636|7911053|\n",
      "+---------+-------+\n",
      "\n"
     ]
    }
   ],
   "source": [
    "df1_groupedby.show()"
   ]
  },
  {
   "cell_type": "code",
   "execution_count": 9,
   "id": "0abcd5c4",
   "metadata": {},
   "outputs": [],
   "source": [
    "import seaborn as sn\n",
    "df1_groupedby = df1_groupedby.toPandas()"
   ]
  },
  {
   "cell_type": "code",
   "execution_count": 36,
   "id": "9eb4e2e4",
   "metadata": {},
   "outputs": [
    {
     "name": "stdout",
     "output_type": "stream",
     "text": [
      "+---------+-------+-----+--------------------+\n",
      "|sensor_id|node_id| type|                name|\n",
      "+---------+-------+-----+--------------------+\n",
      "|     5894| 541150|  INT|corridor/ambience...|\n",
      "|     5895| 541151|  INT|bathroom/ambience...|\n",
      "|     7125| 542381|  INT|bathroom/ambience...|\n",
      "|     5896| 541152|  INT|bedroom/bed/pressure|\n",
      "|     6127| 541383|  INT| livingroom/tv/light|\n",
      "|     6220| 541444|  INT| balcon/door/contact|\n",
      "|     6253| 541509|  INT|kitchen/fridge/co...|\n",
      "|     6632| 541888|FLOAT|kitchen/coffeemak...|\n",
      "|     6633| 541889|FLOAT|kitchen/sandwichm...|\n",
      "|     6634| 541890|FLOAT|kitchen/dishwashe...|\n",
      "|     6635| 541891|FLOAT|kitchen/kettle/cu...|\n",
      "|     6636| 541892|FLOAT|bathroom/washingm...|\n",
      "|     6896| 542152|FLOAT|kitchen/microwave...|\n",
      "|     6686| 541885|  INT|bedroom/ambience_...|\n",
      "|     6687| 541883|  INT|bedroom/weightsca...|\n",
      "|     7139| 542395|FLOAT|corridor/ilifeRob...|\n",
      "|     6222| 541141|FLOAT|bathroom/ambience...|\n",
      "|     6223| 541141|FLOAT|bathroom/ambience...|\n",
      "|     5887| 541143|  INT| kitchen/stove/light|\n",
      "|     5888| 541144|  INT|entrance/door/con...|\n",
      "+---------+-------+-----+--------------------+\n",
      "only showing top 20 rows\n",
      "\n"
     ]
    }
   ],
   "source": [
    "df3.show()"
   ]
  },
  {
   "cell_type": "code",
   "execution_count": 10,
   "id": "28670977",
   "metadata": {},
   "outputs": [],
   "source": [
    "sensorid_name_rdd = df3.select('sensor_id', 'name').rdd\n",
    "sensoridkey_namevalue = sensorid_name_rdd.map(lambda x: (x[0], x[1]))\n",
    "dict_ = sensoridkey_namevalue.collectAsMap()"
   ]
  },
  {
   "cell_type": "code",
   "execution_count": 13,
   "id": "701f00c1",
   "metadata": {},
   "outputs": [],
   "source": [
    "df1_groupedby['sensor_id_conv'] = df1_groupedby['sensor_id'].apply(lambda x: dict_[x])"
   ]
  },
  {
   "cell_type": "code",
   "execution_count": 15,
   "id": "760072ae",
   "metadata": {},
   "outputs": [
    {
     "data": {
      "image/png": "[encoded data removed]",
      "text/plain": [
       "<Figure size 432x432 with 1 Axes>"
      ]
     },
     "metadata": {
      "needs_background": "light"
     },
     "output_type": "display_data"
    }
   ],
   "source": [
    "import matplotlib.pyplot as plt\n",
    "fig, ax = plt.subplots(figsize=(6, 6))\n",
    "ax = sn.barplot(y='sensor_id_conv', x='count', data=df1_groupedby)\n",
    "#ax.set_xticklabels(ax.get_xticklabels(), rotation=0, ha=\"right\")"
   ]
  },
  {
   "cell_type": "code",
   "execution_count": null,
   "id": "2eee195d",
   "metadata": {},
   "outputs": [],
   "source": []
  }
 ],
 "metadata": {
  "kernelspec": {
   "display_name": "Python 3",
   "language": "python",
   "name": "python3"
  },
  "language_info": {
   "codemirror_mode": {
    "name": "ipython",
    "version": 3
   },
   "file_extension": ".py",
   "mimetype": "text/x-python",
   "name": "python",
   "nbconvert_exporter": "python",
   "pygments_lexer": "ipython3",
   "version": "3.8.8"
  }
 },
 "nbformat": 4,
 "nbformat_minor": 5
}
