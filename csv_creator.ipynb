{
 "cells": [
  {
   "cell_type": "code",
   "execution_count": null,
   "id": "6f2aea37",
   "metadata": {},
   "outputs": [],
   "source": [
    "from pyspark import SparkContext, SparkConf"
   ]
  },
  {
   "cell_type": "code",
   "execution_count": null,
   "id": "16532914",
   "metadata": {},
   "outputs": [],
   "source": [
    "conf = SparkConf().setAppName('project')\n",
    "sc = SparkContext(conf=conf)\n",
    "sc"
   ]
  },
  {
   "cell_type": "code",
   "execution_count": 22,
   "id": "874da35d",
   "metadata": {},
   "outputs": [],
   "source": [
    "from pyspark.sql import SparkSession\n",
    "\n",
    "spark = SparkSession.builder.appName('project').config('spark.some.config.option', \"some-value\").getOrCreate()"
   ]
  },
  {
   "cell_type": "code",
   "execution_count": 23,
   "id": "59fbdfd2",
   "metadata": {},
   "outputs": [],
   "source": [
    "df_float = spark.read.csv('human_activity_raw_sensor_data/sensor_sample_float.csv', header=True)\n",
    "df_int = spark.read.csv('human_activity_raw_sensor_data/sensor_sample_int.csv', header=True)\n",
    "df3 = spark.read.csv('human_activity_raw_sensor_data/sensor.csv', header=True)"
   ]
  },
  {
   "cell_type": "code",
   "execution_count": 24,
   "id": "3b56ebbb",
   "metadata": {},
   "outputs": [],
   "source": [
    "import datetime\n",
    "from pyspark.sql.functions import *\n",
    "df_int = df_int.withColumn(\"timestamp\",expr(\"substring(timestamp, 1, length(timestamp)-7)\"))\n",
    "df_float = df_float.withColumn(\"timestamp\",expr(\"substring(timestamp, 1, length(timestamp)-7)\"))"
   ]
  },
  {
   "cell_type": "code",
   "execution_count": 25,
   "id": "54606193",
   "metadata": {},
   "outputs": [
    {
     "data": {
      "text/plain": [
       "DataFrame[key: string, value: string]"
      ]
     },
     "execution_count": 25,
     "metadata": {},
     "output_type": "execute_result"
    }
   ],
   "source": [
    "spark.sql(\"set spark.sql.legacy.timeParserPolicy=LEGACY\")"
   ]
  },
  {
   "cell_type": "code",
   "execution_count": 26,
   "id": "77ce08e9",
   "metadata": {},
   "outputs": [],
   "source": [
    "df_int = df_int\\\n",
    "    .withColumn('year', year(to_timestamp('timestamp', 'yyyy-MM-dd HH:mm:ss')))\\\n",
    "    .withColumn('month', month(to_timestamp('timestamp', 'yyyy-MM-dd HH:mm:ss')))\\\n",
    "    .withColumn('date', dayofmonth(to_timestamp('timestamp', 'yyyy-MM-dd HH:mm:ss')))\\\n",
    "    .withColumn('hour', hour(to_timestamp('timestamp', 'yyyy-MM-dd HH:mm:ss')))\\\n",
    "    .withColumn('minute', minute(to_timestamp('timestamp', 'yyyy-MM-dd HH:mm:ss')))\\\n",
    "    .withColumn('second', second(to_timestamp('timestamp', 'yyyy-MM-dd HH:mm:ss')))\\\n",
    "    .withColumn('week', weekofyear(to_timestamp('timestamp', 'yyyy-MM-dd HH:mm:ss')))\\\n",
    "    .withColumn('weekday', dayofweek(to_timestamp('timestamp', 'yyyy-MM-dd HH:mm:ss')))\n"
   ]
  },
  {
   "cell_type": "code",
   "execution_count": 27,
   "id": "a21994ec",
   "metadata": {},
   "outputs": [],
   "source": [
    "df_float = df_float\\\n",
    "    .withColumn('year', year(to_timestamp('timestamp', 'yyyy-MM-dd HH:mm:ss')))\\\n",
    "    .withColumn('month', month(to_timestamp('timestamp', 'yyyy-MM-dd HH:mm:ss')))\\\n",
    "    .withColumn('date', dayofmonth(to_timestamp('timestamp', 'yyyy-MM-dd HH:mm:ss')))\\\n",
    "    .withColumn('hour', hour(to_timestamp('timestamp', 'yyyy-MM-dd HH:mm:ss')))\\\n",
    "    .withColumn('minute', minute(to_timestamp('timestamp', 'yyyy-MM-dd HH:mm:ss')))\\\n",
    "    .withColumn('second', second(to_timestamp('timestamp', 'yyyy-MM-dd HH:mm:ss')))\\\n",
    "    .withColumn('week', weekofyear(to_timestamp('timestamp', 'yyyy-MM-dd HH:mm:ss')))\\\n",
    "    .withColumn('weekday', dayofweek(to_timestamp('timestamp', 'yyyy-MM-dd HH:mm:ss')))\n"
   ]
  },
  {
   "cell_type": "code",
   "execution_count": 28,
   "id": "538c567d",
   "metadata": {},
   "outputs": [],
   "source": [
    "df_int = df_int.join(df3,['sensor_id'],how='inner').drop(*[\"node_id\", \"type\"])\n",
    "df_float = df_float.join(df3,['sensor_id'],how='inner').drop(*[\"node_id\", \"type\"])"
   ]
  },
  {
   "cell_type": "code",
   "execution_count": 29,
   "id": "945e648e",
   "metadata": {},
   "outputs": [],
   "source": [
    "df_int = df_int.withColumn('room', split(df_int['name'], '/').getItem(0)) \\\n",
    "        .withColumn('device', split(df_int['name'], '/').getItem(1)) \\\n",
    "        .withColumn('sensor_type', split(df_int['name'], '/').getItem(2))\n",
    "\n",
    "df_float = df_float.withColumn('room', split(df_float['name'], '/').getItem(0)) \\\n",
    "        .withColumn('device', split(df_float['name'], '/').getItem(1)) \\\n",
    "        .withColumn('sensor_type', split(df_float['name'], '/').getItem(2))"
   ]
  },
  {
   "cell_type": "code",
   "execution_count": 30,
   "id": "8a6f9d04",
   "metadata": {},
   "outputs": [],
   "source": [
    "df_int = df_int.drop(\"name\")\n",
    "df_float = df_float.drop(\"name\")"
   ]
  },
  {
   "cell_type": "code",
   "execution_count": 31,
   "id": "d14ae6f5",
   "metadata": {},
   "outputs": [],
   "source": [
    "from pyspark.sql.types import *\n",
    "df_int = df_int.withColumn('value', col('value').cast(IntegerType()))\n",
    "df_float = df_float.withColumn('value', col('value').cast(FloatType()))"
   ]
  },
  {
   "cell_type": "code",
   "execution_count": 32,
   "id": "ef653dde",
   "metadata": {},
   "outputs": [
    {
     "name": "stdout",
     "output_type": "stream",
     "text": [
      "+---------+--------+-------------------+-----+----+-----+----+----+------+------+----+-------+----------+--------+-----------+\n",
      "|sensor_id|value_id|          timestamp|value|year|month|date|hour|minute|second|week|weekday|      room|  device|sensor_type|\n",
      "+---------+--------+-------------------+-----+----+-----+----+----+------+------+----+-------+----------+--------+-----------+\n",
      "|     5892|18730541|2020-02-26 00:00:00|    0|2020|    2|  26|   0|     0|     0|   9|      4|   bedroom|ambience|     motion|\n",
      "|     5887|18730542|2020-02-26 00:00:00| 1024|2020|    2|  26|   0|     0|     0|   9|      4|   kitchen|   stove|      light|\n",
      "|     5891|18730544|2020-02-26 00:00:00|    0|2020|    2|  26|   0|     0|     0|   9|      4|livingroom|ambience|     motion|\n",
      "|     5896|18730546|2020-02-26 00:00:00|  652|2020|    2|  26|   0|     0|     0|   9|      4|   bedroom|     bed|   pressure|\n",
      "|     6127|18730548|2020-02-26 00:00:00| 1024|2020|    2|  26|   0|     0|     0|   9|      4|livingroom|      tv|      light|\n",
      "|     5888|18730549|2020-02-26 00:00:00|    0|2020|    2|  26|   0|     0|     0|   9|      4|  entrance|    door|    contact|\n",
      "|     5889|18730550|2020-02-26 00:00:00|  301|2020|    2|  26|   0|     0|     0|   9|      4|livingroom|   couch|   pressure|\n",
      "|     5893|18730551|2020-02-26 00:00:00|    0|2020|    2|  26|   0|     0|     0|   9|      4|   kitchen|ambience|     motion|\n",
      "|     5895|18730553|2020-02-26 00:00:00|    0|2020|    2|  26|   0|     0|     0|   9|      4|  bathroom|ambience|     motion|\n",
      "|     5894|18730554|2020-02-26 00:00:00|    0|2020|    2|  26|   0|     0|     0|   9|      4|  corridor|ambience|     motion|\n",
      "|     5892|18730559|2020-02-26 00:00:01|    0|2020|    2|  26|   0|     0|     1|   9|      4|   bedroom|ambience|     motion|\n",
      "|     5887|18730560|2020-02-26 00:00:01| 1024|2020|    2|  26|   0|     0|     1|   9|      4|   kitchen|   stove|      light|\n",
      "|     5891|18730562|2020-02-26 00:00:01|    0|2020|    2|  26|   0|     0|     1|   9|      4|livingroom|ambience|     motion|\n",
      "|     5896|18730564|2020-02-26 00:00:01|  652|2020|    2|  26|   0|     0|     1|   9|      4|   bedroom|     bed|   pressure|\n",
      "|     6127|18730566|2020-02-26 00:00:01| 1024|2020|    2|  26|   0|     0|     1|   9|      4|livingroom|      tv|      light|\n",
      "|     5888|18730567|2020-02-26 00:00:01|    0|2020|    2|  26|   0|     0|     1|   9|      4|  entrance|    door|    contact|\n",
      "|     5893|18730568|2020-02-26 00:00:01|    0|2020|    2|  26|   0|     0|     1|   9|      4|   kitchen|ambience|     motion|\n",
      "|     5889|18730570|2020-02-26 00:00:01|  301|2020|    2|  26|   0|     0|     1|   9|      4|livingroom|   couch|   pressure|\n",
      "|     5895|18730571|2020-02-26 00:00:01|    0|2020|    2|  26|   0|     0|     1|   9|      4|  bathroom|ambience|     motion|\n",
      "|     5894|18730572|2020-02-26 00:00:01|    0|2020|    2|  26|   0|     0|     1|   9|      4|  corridor|ambience|     motion|\n",
      "+---------+--------+-------------------+-----+----+-----+----+----+------+------+----+-------+----------+--------+-----------+\n",
      "only showing top 20 rows\n",
      "\n"
     ]
    }
   ],
   "source": [
    "df_int.show()"
   ]
  },
  {
   "cell_type": "code",
   "execution_count": 33,
   "id": "8a1c074d",
   "metadata": {},
   "outputs": [
    {
     "name": "stdout",
     "output_type": "stream",
     "text": [
      "+---------+--------+-------------------+-----+----+-----+----+----+------+------+----+-------+--------+--------+-----------+\n",
      "|sensor_id|value_id|          timestamp|value|year|month|date|hour|minute|second|week|weekday|    room|  device|sensor_type|\n",
      "+---------+--------+-------------------+-----+----+-----+----+----+------+------+----+-------+--------+--------+-----------+\n",
      "|     6222|  315318|2020-02-26 11:22:36|17.78|2020|    2|  26|  11|    22|    36|   9|      4|bathroom|ambience|   humidity|\n",
      "|     6223|  315319|2020-02-26 11:22:36|26.51|2020|    2|  26|  11|    22|    36|   9|      4|bathroom|ambience|temperature|\n",
      "|     6223|  315320|2020-02-26 19:36:36|27.27|2020|    2|  26|  19|    36|    36|   9|      4|bathroom|ambience|temperature|\n",
      "|     6222|  315321|2020-02-26 19:36:36|51.52|2020|    2|  26|  19|    36|    36|   9|      4|bathroom|ambience|   humidity|\n",
      "|     6223|  315322|2020-02-26 19:36:37|27.26|2020|    2|  26|  19|    36|    37|   9|      4|bathroom|ambience|temperature|\n",
      "|     6222|  315323|2020-02-26 19:36:37|51.48|2020|    2|  26|  19|    36|    37|   9|      4|bathroom|ambience|   humidity|\n",
      "|     6223|  315324|2020-02-26 19:36:38|27.26|2020|    2|  26|  19|    36|    38|   9|      4|bathroom|ambience|temperature|\n",
      "|     6222|  315325|2020-02-26 19:36:38|51.44|2020|    2|  26|  19|    36|    38|   9|      4|bathroom|ambience|   humidity|\n",
      "|     6223|  315326|2020-02-26 19:36:39|27.27|2020|    2|  26|  19|    36|    39|   9|      4|bathroom|ambience|temperature|\n",
      "|     6222|  315327|2020-02-26 19:36:39|51.41|2020|    2|  26|  19|    36|    39|   9|      4|bathroom|ambience|   humidity|\n",
      "|     6223|  315328|2020-02-26 19:36:41|27.26|2020|    2|  26|  19|    36|    41|   9|      4|bathroom|ambience|temperature|\n",
      "|     6222|  315329|2020-02-26 19:36:41|51.35|2020|    2|  26|  19|    36|    41|   9|      4|bathroom|ambience|   humidity|\n",
      "|     6223|  315330|2020-02-26 19:36:42|27.27|2020|    2|  26|  19|    36|    42|   9|      4|bathroom|ambience|temperature|\n",
      "|     6222|  315331|2020-02-26 19:36:42| 51.3|2020|    2|  26|  19|    36|    42|   9|      4|bathroom|ambience|   humidity|\n",
      "|     6223|  315332|2020-02-26 19:36:43|27.26|2020|    2|  26|  19|    36|    43|   9|      4|bathroom|ambience|temperature|\n",
      "|     6222|  315333|2020-02-26 19:36:43|51.26|2020|    2|  26|  19|    36|    43|   9|      4|bathroom|ambience|   humidity|\n",
      "|     6223|  315334|2020-02-26 19:36:44|27.26|2020|    2|  26|  19|    36|    44|   9|      4|bathroom|ambience|temperature|\n",
      "|     6222|  315335|2020-02-26 19:36:44|51.21|2020|    2|  26|  19|    36|    44|   9|      4|bathroom|ambience|   humidity|\n",
      "|     6223|  315336|2020-02-26 19:36:45|27.27|2020|    2|  26|  19|    36|    45|   9|      4|bathroom|ambience|temperature|\n",
      "|     6222|  315337|2020-02-26 19:36:45|51.16|2020|    2|  26|  19|    36|    45|   9|      4|bathroom|ambience|   humidity|\n",
      "+---------+--------+-------------------+-----+----+-----+----+----+------+------+----+-------+--------+--------+-----------+\n",
      "only showing top 20 rows\n",
      "\n"
     ]
    }
   ],
   "source": [
    "df_float.show()"
   ]
  },
  {
   "cell_type": "code",
   "execution_count": 34,
   "id": "7b705c64",
   "metadata": {},
   "outputs": [
    {
     "name": "stdout",
     "output_type": "stream",
     "text": [
      "+---------+-------+-----+--------------------+\n",
      "|sensor_id|node_id| type|                name|\n",
      "+---------+-------+-----+--------------------+\n",
      "|     5894| 541150|  INT|corridor/ambience...|\n",
      "|     5895| 541151|  INT|bathroom/ambience...|\n",
      "|     7125| 542381|  INT|bathroom/ambience...|\n",
      "|     5896| 541152|  INT|bedroom/bed/pressure|\n",
      "|     6127| 541383|  INT| livingroom/tv/light|\n",
      "|     6220| 541444|  INT| balcon/door/contact|\n",
      "|     6253| 541509|  INT|kitchen/fridge/co...|\n",
      "|     6632| 541888|FLOAT|kitchen/coffeemak...|\n",
      "|     6633| 541889|FLOAT|kitchen/sandwichm...|\n",
      "|     6634| 541890|FLOAT|kitchen/dishwashe...|\n",
      "|     6635| 541891|FLOAT|kitchen/kettle/cu...|\n",
      "|     6636| 541892|FLOAT|bathroom/washingm...|\n",
      "|     6896| 542152|FLOAT|kitchen/microwave...|\n",
      "|     6686| 541885|  INT|bedroom/ambience_...|\n",
      "|     6687| 541883|  INT|bedroom/weightsca...|\n",
      "|     7139| 542395|FLOAT|corridor/ilifeRob...|\n",
      "|     6222| 541141|FLOAT|bathroom/ambience...|\n",
      "|     6223| 541141|FLOAT|bathroom/ambience...|\n",
      "|     5887| 541143|  INT| kitchen/stove/light|\n",
      "|     5888| 541144|  INT|entrance/door/con...|\n",
      "+---------+-------+-----+--------------------+\n",
      "only showing top 20 rows\n",
      "\n"
     ]
    }
   ],
   "source": [
    "df3.show()"
   ]
  },
  {
   "cell_type": "code",
   "execution_count": 35,
   "id": "37cf5099",
   "metadata": {},
   "outputs": [],
   "source": [
    "df3_int =df3[df3.type == \"INT\"]\n",
    "df3_float = df3[df3.type == \"FLOAT\"]"
   ]
  },
  {
   "cell_type": "code",
   "execution_count": 36,
   "id": "9875619b",
   "metadata": {},
   "outputs": [
    {
     "name": "stdout",
     "output_type": "stream",
     "text": [
      "+---------+-------+-----+-------------------------------+\n",
      "|sensor_id|node_id|type |name                           |\n",
      "+---------+-------+-----+-------------------------------+\n",
      "|6632     |541888 |FLOAT|kitchen/coffeemaker/current    |\n",
      "|6633     |541889 |FLOAT|kitchen/sandwichmaker/current  |\n",
      "|6634     |541890 |FLOAT|kitchen/dishwasher/current     |\n",
      "|6635     |541891 |FLOAT|kitchen/kettle/current         |\n",
      "|6636     |541892 |FLOAT|bathroom/washingmachine/current|\n",
      "|6896     |542152 |FLOAT|kitchen/microwave/current      |\n",
      "|7139     |542395 |FLOAT|corridor/ilifeRobot/current    |\n",
      "|6222     |541141 |FLOAT|bathroom/ambience/humidity     |\n",
      "|6223     |541141 |FLOAT|bathroom/ambience/temperature  |\n",
      "+---------+-------+-----+-------------------------------+\n",
      "\n"
     ]
    }
   ],
   "source": [
    "df3_float.show(truncate=False)"
   ]
  },
  {
   "cell_type": "code",
   "execution_count": 41,
   "id": "c1f5bcda",
   "metadata": {},
   "outputs": [
    {
     "name": "stdout",
     "output_type": "stream",
     "text": [
      "+---------+-------+----+-------------------------------------+----------+----------------------+-----------+\n",
      "|sensor_id|node_id|type|name                                 |room      |device                |sensor_type|\n",
      "+---------+-------+----+-------------------------------------+----------+----------------------+-----------+\n",
      "|5894     |541150 |INT |corridor/ambience/motion             |corridor  |ambience              |motion     |\n",
      "|5895     |541151 |INT |bathroom/ambience/motion             |bathroom  |ambience              |motion     |\n",
      "|7125     |542381 |INT |bathroom/ambience/light              |bathroom  |ambience              |light      |\n",
      "|5896     |541152 |INT |bedroom/bed/pressure                 |bedroom   |bed                   |pressure   |\n",
      "|6127     |541383 |INT |livingroom/tv/light                  |livingroom|tv                    |light      |\n",
      "|6220     |541444 |INT |balcon/door/contact                  |balcon    |door                  |contact    |\n",
      "|6253     |541509 |INT |kitchen/fridge/contact               |kitchen   |fridge                |contact    |\n",
      "|6686     |541885 |INT |bedroom/ambience_under_the_bed/motion|bedroom   |ambience_under_the_bed|motion     |\n",
      "|6687     |541883 |INT |bedroom/weightscale/pressure         |bedroom   |weightscale           |pressure   |\n",
      "|5887     |541143 |INT |kitchen/stove/light                  |kitchen   |stove                 |light      |\n",
      "|5888     |541144 |INT |entrance/door/contact                |entrance  |door                  |contact    |\n",
      "|5889     |541145 |INT |livingroom/couch/pressure            |livingroom|couch                 |pressure   |\n",
      "|5891     |541147 |INT |livingroom/ambience/motion           |livingroom|ambience              |motion     |\n",
      "|5892     |541148 |INT |bedroom/ambience/motion              |bedroom   |ambience              |motion     |\n",
      "|5893     |541149 |INT |kitchen/ambience/motion              |kitchen   |ambience              |motion     |\n",
      "+---------+-------+----+-------------------------------------+----------+----------------------+-----------+\n",
      "\n"
     ]
    }
   ],
   "source": [
    "df3_int.show(truncate=False)"
   ]
  },
  {
   "cell_type": "code",
   "execution_count": 37,
   "id": "6618a727",
   "metadata": {},
   "outputs": [],
   "source": [
    "df3_int = df3_int.withColumn('room', split(df3_int['name'], '/').getItem(0)) \\\n",
    "        .withColumn('device', split(df3_int['name'], '/').getItem(1)) \\\n",
    "        .withColumn('sensor_type', split(df3_int['name'], '/').getItem(2))\n",
    "df3_float = df3_float.withColumn('room', split(df3_float['name'], '/').getItem(0)) \\\n",
    "        .withColumn('device', split(df3_float['name'], '/').getItem(1)) \\\n",
    "        .withColumn('sensor_type', split(df3_float['name'], '/').getItem(2))"
   ]
  },
  {
   "cell_type": "code",
   "execution_count": 18,
   "id": "ef22a72c",
   "metadata": {},
   "outputs": [
    {
     "ename": "AnalysisException",
     "evalue": "path file:/C:/Users/lerjebo/Desktop/DataMining-Project-main/float_sensor/bathroom-ambience.csv already exists.;",
     "output_type": "error",
     "traceback": [
      "\u001b[1;31m---------------------------------------------------------------------------\u001b[0m",
      "\u001b[1;31mAnalysisException\u001b[0m                         Traceback (most recent call last)",
      "\u001b[1;32m~\\AppData\\Local\\Temp/ipykernel_3436/2593816527.py\u001b[0m in \u001b[0;36m<module>\u001b[1;34m\u001b[0m\n\u001b[0;32m      3\u001b[0m     \u001b[0mdf\u001b[0m \u001b[1;33m=\u001b[0m \u001b[0mdf\u001b[0m\u001b[1;33m[\u001b[0m\u001b[0mdf\u001b[0m\u001b[1;33m.\u001b[0m\u001b[0mdevice\u001b[0m \u001b[1;33m==\u001b[0m \u001b[0mrow\u001b[0m\u001b[1;33m.\u001b[0m\u001b[0mdevice\u001b[0m\u001b[1;33m]\u001b[0m\u001b[1;33m\u001b[0m\u001b[1;33m\u001b[0m\u001b[0m\n\u001b[0;32m      4\u001b[0m \u001b[1;31m#df_float2.rdd.map(lambda x: x.write.save(path='float_sensor/kitchen-coffemaker.csv', format='csv', mode='append', sep='\\t'))\u001b[0m\u001b[1;33m\u001b[0m\u001b[1;33m\u001b[0m\u001b[1;33m\u001b[0m\u001b[0m\n\u001b[1;32m----> 5\u001b[1;33m     \u001b[0mdf\u001b[0m\u001b[1;33m.\u001b[0m\u001b[0mcoalesce\u001b[0m\u001b[1;33m(\u001b[0m\u001b[1;36m1\u001b[0m\u001b[1;33m)\u001b[0m\u001b[1;33m.\u001b[0m\u001b[0mwrite\u001b[0m\u001b[1;33m.\u001b[0m\u001b[0mformat\u001b[0m\u001b[1;33m(\u001b[0m\u001b[1;34m'com.databricks.spark.csv'\u001b[0m\u001b[1;33m)\u001b[0m\u001b[1;33m.\u001b[0m\u001b[0moptions\u001b[0m\u001b[1;33m(\u001b[0m\u001b[0mheader\u001b[0m\u001b[1;33m=\u001b[0m\u001b[1;34m'true'\u001b[0m\u001b[1;33m)\u001b[0m\u001b[1;33m.\u001b[0m\u001b[0msave\u001b[0m\u001b[1;33m(\u001b[0m\u001b[1;34m'float_sensor/'\u001b[0m\u001b[1;33m+\u001b[0m\u001b[0mrow\u001b[0m\u001b[1;33m.\u001b[0m\u001b[0mroom\u001b[0m\u001b[1;33m+\u001b[0m\u001b[1;34m'-'\u001b[0m\u001b[1;33m+\u001b[0m\u001b[0mrow\u001b[0m\u001b[1;33m.\u001b[0m\u001b[0mdevice\u001b[0m\u001b[1;33m+\u001b[0m\u001b[1;34m'.csv'\u001b[0m\u001b[1;33m)\u001b[0m\u001b[1;33m\u001b[0m\u001b[1;33m\u001b[0m\u001b[0m\n\u001b[0m",
      "\u001b[1;32mL:\\Anaconda\\lib\\site-packages\\pyspark\\sql\\readwriter.py\u001b[0m in \u001b[0;36msave\u001b[1;34m(self, path, format, mode, partitionBy, **options)\u001b[0m\n\u001b[0;32m    828\u001b[0m             \u001b[0mself\u001b[0m\u001b[1;33m.\u001b[0m\u001b[0m_jwrite\u001b[0m\u001b[1;33m.\u001b[0m\u001b[0msave\u001b[0m\u001b[1;33m(\u001b[0m\u001b[1;33m)\u001b[0m\u001b[1;33m\u001b[0m\u001b[1;33m\u001b[0m\u001b[0m\n\u001b[0;32m    829\u001b[0m         \u001b[1;32melse\u001b[0m\u001b[1;33m:\u001b[0m\u001b[1;33m\u001b[0m\u001b[1;33m\u001b[0m\u001b[0m\n\u001b[1;32m--> 830\u001b[1;33m             \u001b[0mself\u001b[0m\u001b[1;33m.\u001b[0m\u001b[0m_jwrite\u001b[0m\u001b[1;33m.\u001b[0m\u001b[0msave\u001b[0m\u001b[1;33m(\u001b[0m\u001b[0mpath\u001b[0m\u001b[1;33m)\u001b[0m\u001b[1;33m\u001b[0m\u001b[1;33m\u001b[0m\u001b[0m\n\u001b[0m\u001b[0;32m    831\u001b[0m \u001b[1;33m\u001b[0m\u001b[0m\n\u001b[0;32m    832\u001b[0m     \u001b[1;33m@\u001b[0m\u001b[0msince\u001b[0m\u001b[1;33m(\u001b[0m\u001b[1;36m1.4\u001b[0m\u001b[1;33m)\u001b[0m\u001b[1;33m\u001b[0m\u001b[1;33m\u001b[0m\u001b[0m\n",
      "\u001b[1;32mL:\\Anaconda\\lib\\site-packages\\py4j\\java_gateway.py\u001b[0m in \u001b[0;36m__call__\u001b[1;34m(self, *args)\u001b[0m\n\u001b[0;32m   1302\u001b[0m \u001b[1;33m\u001b[0m\u001b[0m\n\u001b[0;32m   1303\u001b[0m         \u001b[0manswer\u001b[0m \u001b[1;33m=\u001b[0m \u001b[0mself\u001b[0m\u001b[1;33m.\u001b[0m\u001b[0mgateway_client\u001b[0m\u001b[1;33m.\u001b[0m\u001b[0msend_command\u001b[0m\u001b[1;33m(\u001b[0m\u001b[0mcommand\u001b[0m\u001b[1;33m)\u001b[0m\u001b[1;33m\u001b[0m\u001b[1;33m\u001b[0m\u001b[0m\n\u001b[1;32m-> 1304\u001b[1;33m         return_value = get_return_value(\n\u001b[0m\u001b[0;32m   1305\u001b[0m             answer, self.gateway_client, self.target_id, self.name)\n\u001b[0;32m   1306\u001b[0m \u001b[1;33m\u001b[0m\u001b[0m\n",
      "\u001b[1;32mL:\\Anaconda\\lib\\site-packages\\pyspark\\sql\\utils.py\u001b[0m in \u001b[0;36mdeco\u001b[1;34m(*a, **kw)\u001b[0m\n\u001b[0;32m    132\u001b[0m                 \u001b[1;31m# Hide where the exception came from that shows a non-Pythonic\u001b[0m\u001b[1;33m\u001b[0m\u001b[1;33m\u001b[0m\u001b[1;33m\u001b[0m\u001b[0m\n\u001b[0;32m    133\u001b[0m                 \u001b[1;31m# JVM exception message.\u001b[0m\u001b[1;33m\u001b[0m\u001b[1;33m\u001b[0m\u001b[1;33m\u001b[0m\u001b[0m\n\u001b[1;32m--> 134\u001b[1;33m                 \u001b[0mraise_from\u001b[0m\u001b[1;33m(\u001b[0m\u001b[0mconverted\u001b[0m\u001b[1;33m)\u001b[0m\u001b[1;33m\u001b[0m\u001b[1;33m\u001b[0m\u001b[0m\n\u001b[0m\u001b[0;32m    135\u001b[0m             \u001b[1;32melse\u001b[0m\u001b[1;33m:\u001b[0m\u001b[1;33m\u001b[0m\u001b[1;33m\u001b[0m\u001b[0m\n\u001b[0;32m    136\u001b[0m                 \u001b[1;32mraise\u001b[0m\u001b[1;33m\u001b[0m\u001b[1;33m\u001b[0m\u001b[0m\n",
      "\u001b[1;32mL:\\Anaconda\\lib\\site-packages\\pyspark\\sql\\utils.py\u001b[0m in \u001b[0;36mraise_from\u001b[1;34m(e)\u001b[0m\n",
      "\u001b[1;31mAnalysisException\u001b[0m: path file:/C:/Users/lerjebo/Desktop/DataMining-Project-main/float_sensor/bathroom-ambience.csv already exists.;"
     ]
    }
   ],
   "source": [
    "for row in df3_float.rdd.collect():\n",
    "    df = df_float[df_float.room == row.room]\n",
    "    df = df[df.device == row.device]\n",
    "    df = df[df.sensor_type == row.sensor_type]\n",
    "#df_float2.rdd.map(lambda x: x.write.save(path='float_sensor/kitchen-coffemaker.csv', format='csv', mode='append', sep='\\t'))\n",
    "    df.coalesce(1).write.format('com.databricks.spark.csv').options(header='true').save('float_sensor/'+row.room+'-'+row.device+'-'+row.sensor_type+'.csv')"
   ]
  },
  {
   "cell_type": "code",
   "execution_count": 39,
   "id": "e82709fa",
   "metadata": {},
   "outputs": [],
   "source": [
    "for row in df3_int.rdd.collect():\n",
    "    df = df_int[df_int.room == row.room]\n",
    "    df = df[df.device == row.device]\n",
    "    df = df[df.sensor_type == row.sensor_type]\n",
    "#df_float2.rdd.map(lambda x: x.write.save(path='float_sensor/kitchen-coffemaker.csv', format='csv', mode='append', sep='\\t'))\n",
    "    df.coalesce(1).write.format('com.databricks.spark.csv').options(header='true').save('int_sensor/'+row.room+'-'+row.device+'-'+row.sensor_type+'.csv')"
   ]
  },
  {
   "cell_type": "code",
   "execution_count": 43,
   "id": "b4ee2e52",
   "metadata": {},
   "outputs": [],
   "source": [
    "df1 = spark.read.csv('int_sensor/livingroom-tv-light.csv', header=True)"
   ]
  },
  {
   "cell_type": "code",
   "execution_count": 44,
   "id": "207a2498",
   "metadata": {},
   "outputs": [
    {
     "data": {
      "text/plain": [
       "14865503"
      ]
     },
     "execution_count": 44,
     "metadata": {},
     "output_type": "execute_result"
    }
   ],
   "source": [
    "df1.count()"
   ]
  },
  {
   "cell_type": "code",
   "execution_count": 45,
   "id": "bfc8a424",
   "metadata": {},
   "outputs": [],
   "source": [
    "df_int1 = df_int[df_int.room == \"livingroom\"]\n",
    "df_int1 = df_int1[df_int1.device == \"tv\"]\n",
    "df_int1 = df_int1[df_int1.sensor_type == \"light\"]"
   ]
  },
  {
   "cell_type": "code",
   "execution_count": 46,
   "id": "54824e4c",
   "metadata": {},
   "outputs": [
    {
     "data": {
      "text/plain": [
       "14865503"
      ]
     },
     "execution_count": 46,
     "metadata": {},
     "output_type": "execute_result"
    }
   ],
   "source": [
    "df_int1.count()"
   ]
  },
  {
   "cell_type": "code",
   "execution_count": 47,
   "id": "a0600c53",
   "metadata": {},
   "outputs": [
    {
     "data": {
      "text/plain": [
       "186824861"
      ]
     },
     "execution_count": 47,
     "metadata": {},
     "output_type": "execute_result"
    }
   ],
   "source": [
    "df_int.count()"
   ]
  },
  {
   "cell_type": "code",
   "execution_count": null,
   "id": "b9007b1c",
   "metadata": {},
   "outputs": [],
   "source": []
  }
 ],
 "metadata": {
  "kernelspec": {
   "display_name": "Python 3 (ipykernel)",
   "language": "python",
   "name": "python3"
  },
  "language_info": {
   "codemirror_mode": {
    "name": "ipython",
    "version": 3
   },
   "file_extension": ".py",
   "mimetype": "text/x-python",
   "name": "python",
   "nbconvert_exporter": "python",
   "pygments_lexer": "ipython3",
   "version": "3.8.3"
  }
 },
 "nbformat": 4,
 "nbformat_minor": 5
}
